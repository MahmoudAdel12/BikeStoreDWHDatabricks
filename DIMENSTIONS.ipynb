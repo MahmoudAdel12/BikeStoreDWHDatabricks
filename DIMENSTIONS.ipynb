{
 "cells": [
  {
   "cell_type": "code",
   "execution_count": 0,
   "metadata": {
    "application/vnd.databricks.v1+cell": {
     "cellMetadata": {
      "byteLimit": 2048000,
      "rowLimit": 10000
     },
     "inputWidgets": {},
     "nuid": "7a879b54-297e-4998-b633-358423548dfe",
     "showTitle": false,
     "title": ""
    }
   },
   "outputs": [],
   "source": [
    "sc"
   ]
  },
  {
   "cell_type": "code",
   "execution_count": 0,
   "metadata": {
    "application/vnd.databricks.v1+cell": {
     "cellMetadata": {
      "byteLimit": 2048000,
      "rowLimit": 10000
     },
     "inputWidgets": {},
     "nuid": "27f93d9e-4830-4ad9-b490-dbb87e844de3",
     "showTitle": false,
     "title": ""
    }
   },
   "outputs": [],
   "source": [
    "from IPython.display import display, HTML\n",
    "\n",
    "# Corrected CSS style to ensure preformatted text is displayed correctly\n",
    "display(HTML(\"<style>pre { white-space: pre !important; }</style>\"))"
   ]
  },
  {
   "cell_type": "code",
   "execution_count": 0,
   "metadata": {
    "application/vnd.databricks.v1+cell": {
     "cellMetadata": {
      "byteLimit": 2048000,
      "rowLimit": 10000
     },
     "inputWidgets": {},
     "nuid": "e426977e-f258-4ec7-83c8-ae70313d42b8",
     "showTitle": false,
     "title": ""
    }
   },
   "outputs": [],
   "source": [
    "spark.sql(\"SHOW TABLES IN default\").show()\n"
   ]
  },
  {
   "cell_type": "code",
   "execution_count": 0,
   "metadata": {
    "application/vnd.databricks.v1+cell": {
     "cellMetadata": {
      "byteLimit": 2048000,
      "rowLimit": 10000
     },
     "inputWidgets": {},
     "nuid": "ddc4614d-e7d1-4f94-8433-5a028af3de9e",
     "showTitle": false,
     "title": ""
    }
   },
   "outputs": [],
   "source": [
    "# List files in the Blob Storage container\n",
    "dbutils.fs.ls(\"wasbs://bikestore@mahmoudadel.blob.core.windows.net/\")"
   ]
  },
  {
   "cell_type": "code",
   "execution_count": 0,
   "metadata": {
    "application/vnd.databricks.v1+cell": {
     "cellMetadata": {
      "byteLimit": 2048000,
      "rowLimit": 10000
     },
     "collapsed": true,
     "inputWidgets": {},
     "nuid": "5d625e8a-fe5f-4d16-8a28-8c49f41d9101",
     "showTitle": false,
     "title": ""
    }
   },
   "outputs": [],
   "source": [
    "from pyspark.sql.types import StructType, StructField, IntegerType, StringType\n",
    "\n",
    "schema_customers = StructType([\n",
    "    StructField(\"customer_number\", IntegerType(), nullable=False),\n",
    "    StructField(\"first_name\", StringType(), nullable=False),\n",
    "    StructField(\"last_name\", StringType(), nullable=False),\n",
    "    StructField(\"phone\", StringType()),\n",
    "    StructField(\"email\", StringType()),\n",
    "    StructField(\"street\", StringType()),\n",
    "    StructField(\"city\", StringType()),\n",
    "    StructField(\"state\", StringType()),\n",
    "    StructField(\"zip_code\", StringType())\n",
    "])"
   ]
  },
  {
   "cell_type": "code",
   "execution_count": 0,
   "metadata": {
    "application/vnd.databricks.v1+cell": {
     "cellMetadata": {
      "byteLimit": 2048000,
      "rowLimit": 10000
     },
     "inputWidgets": {},
     "nuid": "dba33f47-7d19-4cce-91b5-8d89c4d2a694",
     "showTitle": false,
     "title": ""
    }
   },
   "outputs": [],
   "source": [
    "storage_account_name = \"mahmoudadel\"\n",
    "storage_account_access_key = \"**"  \n",
    "\n",
    "spark.conf.set(\n",
    "  \"fs.azure.account.key.\"+storage_account_name+\".blob.core.windows.net\",\n",
    "  storage_account_access_key)\n",
    "\n",
    "\n",
    "# file_path = \"wasbs://bikestore@mahmoudadel.blob.core.windows.net/BikeStores_sales_customers.csv\"\n",
    "\n",
    "# # Load new data\n",
    "# df_new_customers = spark.read.csv(file_path, schema=schema_customers, header=False)\n",
    "\n",
    "# # Set current date for updates\n",
    "# current_date = F.current_date()\n",
    "\n",
    "# # Load existing dimension table\n",
    "# df_existing_customers = spark.sql(\"SELECT * FROM dim_customer WHERE change_current_ind = true\")\n",
    "\n",
    "\n"
   ]
  },
  {
   "cell_type": "code",
   "execution_count": 0,
   "metadata": {
    "application/vnd.databricks.v1+cell": {
     "cellMetadata": {
      "byteLimit": 2048000,
      "rowLimit": 10000
     },
     "inputWidgets": {},
     "nuid": "2085c546-a4c2-412c-9880-3cb91417505b",
     "showTitle": false,
     "title": ""
    }
   },
   "outputs": [],
   "source": [
    "df_final.show()"
   ]
  },
  {
   "cell_type": "code",
   "execution_count": 0,
   "metadata": {
    "application/vnd.databricks.v1+cell": {
     "cellMetadata": {
      "byteLimit": 2048000,
      "rowLimit": 10000
     },
     "inputWidgets": {},
     "nuid": "2e5d7f68-330a-44ec-b7d4-ec98751324ee",
     "showTitle": false,
     "title": ""
    }
   },
   "outputs": [],
   "source": [
    "from delta.tables import DeltaTable\n",
    "delta_table = DeltaTable.forName(spark, \"dim_customer\")"
   ]
  },
  {
   "cell_type": "code",
   "execution_count": 0,
   "metadata": {
    "application/vnd.databricks.v1+cell": {
     "cellMetadata": {
      "byteLimit": 2048000,
      "rowLimit": 10000
     },
     "inputWidgets": {},
     "nuid": "28c276fe-0279-4234-b2d8-02813e4042bb",
     "showTitle": false,
     "title": ""
    }
   },
   "outputs": [
    {
     "output_type": "stream",
     "name": "stdout",
     "output_type": "stream",
     "text": [
      "+-----------+---------------+----------+---------+--------------+--------------------+--------------------+---------------+-----+--------+----------+----------+------------------+\n|customer_id|customer_number|first_name|last_name|         phone|               email|              street|           city|state|zip_code|start_date|  end_date|change_current_ind|\n+-----------+---------------+----------+---------+--------------+--------------------+--------------------+---------------+-----+--------+----------+----------+------------------+\n|          1|              1|     Debra|  Burks s|          NULL|debra.burks@yahoo...|   9273 Thorne Ave. |   Orchard Park|   NY|   14127|      NULL|2024-09-28|              true|\n|          2|              2|     Kasha|     Todd|          NULL|kasha.todd@yahoo.com|    910 Vine Street |       Campbell|   CA|   95008|      NULL|2024-09-28|              true|\n|          3|              3|    Tameka|   Fisher|          NULL|tameka.fisher@aol...|769C Honey Creek ...|  Redondo Beach|   CA|   90278|      NULL|2024-09-28|              true|\n|          4|              4|     Daryl|   Spence|          NULL|daryl.spence@aol.com|     988 Pearl Lane |      Uniondale|   NY|   11553|      NULL|2024-09-28|              true|\n|          5|              5|Charolette|     Rice|(916) 381-6003|charolette.rice@m...|      107 River Dr. |     Sacramento|   CA|   95820|      NULL|2024-09-28|              true|\n|          6|              6|   Lyndsey|     Bean|          NULL|lyndsey.bean@hotm...|      769 West Road |       Fairport|   NY|   14450|      NULL|2024-09-28|              true|\n|          7|              7|   Latasha|     Hays|(716) 986-3359|latasha.hays@hotm...|7014 Manor Statio...|        Buffalo|   NY|   14215|      NULL|2024-09-28|              true|\n|          8|              8| Jacquline|   Duncan|          NULL|jacquline.duncan@...|       15 Brown St. |Jackson Heights|   NY|   11372|      NULL|2024-09-28|              true|\n|          9|              9|  Genoveva|  Baldwin|          NULL|genoveva.baldwin@...|  8550 Spruce Drive |Port Washington|   NY|   11050|      NULL|2024-09-28|              true|\n|         10|             10|   Pamelia|   Newman|          NULL|pamelia.newman@gm...|  476 Chestnut Ave. |         Monroe|   NY|   10950|      NULL|2024-09-28|              true|\n|         11|             11|   Deshawn|  Mendoza|          NULL|deshawn.mendoza@y...|8790 Cobblestone ...|         Monsey|   NY|   10952|      NULL|2024-09-28|              true|\n|         12|             12|     Robby|    Sykes|(516) 583-7761|robby.sykes@hotma...|486 Rock Maple St...|      Hempstead|   NY|   11550|      NULL|2024-09-28|              true|\n|         13|             13|   Lashawn|    Ortiz|          NULL|lashawn.ortiz@msn...|  27 Washington Rd. |       Longview|   TX|   75604|      NULL|2024-09-28|              true|\n|         14|             14|     Garry| Espinoza|          NULL|garry.espinoza@ho...|7858 Rockaway Court |         Forney|   TX|   75126|      NULL|2024-09-28|              true|\n|         15|             15|    Linnie|   Branch|          NULL|linnie.branch@gma...|314 South Columbi...|    Plattsburgh|   NY|   12901|      NULL|2024-09-28|              true|\n|         16|             16|    Emmitt|  Sanchez|(212) 945-8823|emmitt.sanchez@ho...|461 Squaw Creek R...|       New York|   NY|   10002|      NULL|2024-09-28|              true|\n|         17|             17|     Caren| Stephens|          NULL|caren.stephens@ms...|      914 Brook St. |      Scarsdale|   NY|   10583|      NULL|2024-09-28|              true|\n|         18|             18| Georgetta|   Hardin|          NULL|georgetta.hardin@...|     474 Chapel Dr. |    Canandaigua|   NY|   14424|      NULL|2024-09-28|              true|\n|         19|             19|  Lizzette|    Stein|          NULL|lizzette.stein@ya...| 19 Green Hill Lane |   Orchard Park|   NY|   14127|      NULL|2024-09-28|              true|\n|         20|             20|     Aleta|  Shepard|          NULL|aleta.shepard@aol...|     684 Howard St. |     Sugar Land|   TX|   77478|      NULL|2024-09-28|              true|\n+-----------+---------------+----------+---------+--------------+--------------------+--------------------+---------------+-----+--------+----------+----------+------------------+\nonly showing top 20 rows\n\n"
     ]
    }
   ],
   "source": [
    "delta_table.toDF().show()"
   ]
  },
  {
   "cell_type": "code",
   "execution_count": 0,
   "metadata": {
    "application/vnd.databricks.v1+cell": {
     "cellMetadata": {
      "byteLimit": 2048000,
      "rowLimit": 10000
     },
     "inputWidgets": {},
     "nuid": "721f137c-2c1e-4b7b-a0f5-1b28f374a27f",
     "showTitle": false,
     "title": ""
    }
   },
   "outputs": [
    {
     "output_type": "stream",
     "name": "stdout",
     "output_type": "stream",
     "text": [
      "+---------------+----------+---------+--------------+--------------------+--------------------+---------------+-----+--------+-----------+\n|customer_number|first_name|last_name|         phone|               email|              street|           city|state|zip_code|customer_id|\n+---------------+----------+---------+--------------+--------------------+--------------------+---------------+-----+--------+-----------+\n|              1|     Debra|  Burks s|          NULL|debra.burks@yahoo...|   9273 Thorne Ave. |   Orchard Park|   NY|   14127|       1446|\n|              2|     Kasha|     Todd|          NULL|kasha.todd@yahoo.com|    910 Vine Street |       Campbell|   CA|   95008|       1447|\n|              3|    Tameka|   Fisher|          NULL|tameka.fisher@aol...|769C Honey Creek ...|  Redondo Beach|   CA|   90278|       1448|\n|              4|     Daryl|   Spence|          NULL|daryl.spence@aol.com|     988 Pearl Lane |      Uniondale|   NY|   11553|       1449|\n|              5|Charolette|     Rice|(916) 381-6003|charolette.rice@m...|      107 River Dr. |     Sacramento|   CA|   95820|       1450|\n|              6|   Lyndsey|     Bean|          NULL|lyndsey.bean@hotm...|      769 West Road |       Fairport|   NY|   14450|       1451|\n|              7|   Latasha|     Hays|(716) 986-3359|latasha.hays@hotm...|7014 Manor Statio...|        Buffalo|   NY|   14215|       1452|\n|              8| Jacquline|   Duncan|          NULL|jacquline.duncan@...|       15 Brown St. |Jackson Heights|   NY|   11372|       1453|\n|              9|  Genoveva|  Baldwin|          NULL|genoveva.baldwin@...|  8550 Spruce Drive |Port Washington|   NY|   11050|       1454|\n|             10|   Pamelia|   Newman|          NULL|pamelia.newman@gm...|  476 Chestnut Ave. |         Monroe|   NY|   10950|       1455|\n|             11|   Deshawn|  Mendoza|          NULL|deshawn.mendoza@y...|8790 Cobblestone ...|         Monsey|   NY|   10952|       1456|\n|             12|     Robby|    Sykes|(516) 583-7761|robby.sykes@hotma...|486 Rock Maple St...|      Hempstead|   NY|   11550|       1457|\n|             13|   Lashawn|    Ortiz|          NULL|lashawn.ortiz@msn...|  27 Washington Rd. |       Longview|   TX|   75604|       1458|\n|             14|     Garry| Espinoza|          NULL|garry.espinoza@ho...|7858 Rockaway Court |         Forney|   TX|   75126|       1459|\n|             15|    Linnie|   Branch|          NULL|linnie.branch@gma...|314 South Columbi...|    Plattsburgh|   NY|   12901|       1460|\n|             16|    Emmitt|  Sanchez|(212) 945-8823|emmitt.sanchez@ho...|461 Squaw Creek R...|       New York|   NY|   10002|       1461|\n|             17|     Caren| Stephens|          NULL|caren.stephens@ms...|      914 Brook St. |      Scarsdale|   NY|   10583|       1462|\n|             18| Georgetta|   Hardin|          NULL|georgetta.hardin@...|     474 Chapel Dr. |    Canandaigua|   NY|   14424|       1463|\n|             19|  Lizzette|    Stein|          NULL|lizzette.stein@ya...| 19 Green Hill Lane |   Orchard Park|   NY|   14127|       1464|\n|             20|     Aleta|  Shepard|          NULL|aleta.shepard@aol...|     684 Howard St. |     Sugar Land|   TX|   77478|       1465|\n+---------------+----------+---------+--------------+--------------------+--------------------+---------------+-----+--------+-----------+\nonly showing top 20 rows\n\n+-----------+---------------+----------+---------+-----+--------------------+-----------------+------------+-----+--------+----------+--------+------------------+\n|customer_id|customer_number|first_name|last_name|phone|               email|           street|        city|state|zip_code|start_date|end_date|change_current_ind|\n+-----------+---------------+----------+---------+-----+--------------------+-----------------+------------+-----+--------+----------+--------+------------------+\n|       1446|              1|     Debra|  Burks s| NULL|debra.burks@yahoo...|9273 Thorne Ave. |Orchard Park|   NY|   14127|2024-10-04|    NULL|              true|\n+-----------+---------------+----------+---------+-----+--------------------+-----------------+------------+-----+--------+----------+--------+------------------+\n\n+-----------+---------------+----------+---------+--------------+--------------------+--------------------+---------------+-----+--------+----------+----------+------------------+\n|customer_id|customer_number|first_name|last_name|         phone|               email|              street|           city|state|zip_code|start_date|  end_date|change_current_ind|\n+-----------+---------------+----------+---------+--------------+--------------------+--------------------+---------------+-----+--------+----------+----------+------------------+\n|          1|              1|     Debra|  Burks s|          NULL|debra.burks@yahoo...|                TEST|   Orchard Park|   NY|   14127|2024-10-04|2024-10-04|             false|\n|          2|              2|     Kasha|     Todd|          NULL|kasha.todd@yahoo.com|    910 Vine Street |       Campbell|   CA|   95008|2024-10-04|      NULL|              true|\n|          3|              3|    Tameka|   Fisher|          NULL|tameka.fisher@aol...|769C Honey Creek ...|  Redondo Beach|   CA|   90278|2024-10-04|      NULL|              true|\n|          4|              4|     Daryl|   Spence|          NULL|daryl.spence@aol.com|     988 Pearl Lane |      Uniondale|   NY|   11553|2024-10-04|      NULL|              true|\n|          5|              5|Charolette|     Rice|(916) 381-6003|charolette.rice@m...|      107 River Dr. |     Sacramento|   CA|   95820|2024-10-04|      NULL|              true|\n|          6|              6|   Lyndsey|     Bean|          NULL|lyndsey.bean@hotm...|      769 West Road |       Fairport|   NY|   14450|2024-10-04|      NULL|              true|\n|          7|              7|   Latasha|     Hays|(716) 986-3359|latasha.hays@hotm...|7014 Manor Statio...|        Buffalo|   NY|   14215|2024-10-04|      NULL|              true|\n|          8|              8| Jacquline|   Duncan|          NULL|jacquline.duncan@...|       15 Brown St. |Jackson Heights|   NY|   11372|2024-10-04|      NULL|              true|\n|          9|              9|  Genoveva|  Baldwin|          NULL|genoveva.baldwin@...|  8550 Spruce Drive |Port Washington|   NY|   11050|2024-10-04|      NULL|              true|\n|         10|             10|   Pamelia|   Newman|          NULL|pamelia.newman@gm...|  476 Chestnut Ave. |         Monroe|   NY|   10950|2024-10-04|      NULL|              true|\n|         11|             11|   Deshawn|  Mendoza|          NULL|deshawn.mendoza@y...|8790 Cobblestone ...|         Monsey|   NY|   10952|2024-10-04|      NULL|              true|\n|         12|             12|     Robby|    Sykes|(516) 583-7761|robby.sykes@hotma...|486 Rock Maple St...|      Hempstead|   NY|   11550|2024-10-04|      NULL|              true|\n|         13|             13|   Lashawn|    Ortiz|          NULL|lashawn.ortiz@msn...|  27 Washington Rd. |       Longview|   TX|   75604|2024-10-04|      NULL|              true|\n|         14|             14|     Garry| Espinoza|          NULL|garry.espinoza@ho...|7858 Rockaway Court |         Forney|   TX|   75126|2024-10-04|      NULL|              true|\n|         15|             15|    Linnie|   Branch|          NULL|linnie.branch@gma...|314 South Columbi...|    Plattsburgh|   NY|   12901|2024-10-04|      NULL|              true|\n|         16|             16|    Emmitt|  Sanchez|(212) 945-8823|emmitt.sanchez@ho...|461 Squaw Creek R...|       New York|   NY|   10002|2024-10-04|      NULL|              true|\n|         17|             17|     Caren| Stephens|          NULL|caren.stephens@ms...|      914 Brook St. |      Scarsdale|   NY|   10583|2024-10-04|      NULL|              true|\n|         18|             18| Georgetta|   Hardin|          NULL|georgetta.hardin@...|     474 Chapel Dr. |    Canandaigua|   NY|   14424|2024-10-04|      NULL|              true|\n|         19|             19|  Lizzette|    Stein|          NULL|lizzette.stein@ya...| 19 Green Hill Lane |   Orchard Park|   NY|   14127|2024-10-04|      NULL|              true|\n|         20|             20|     Aleta|  Shepard|          NULL|aleta.shepard@aol...|     684 Howard St. |     Sugar Land|   TX|   77478|2024-10-04|      NULL|              true|\n+-----------+---------------+----------+---------+--------------+--------------------+--------------------+---------------+-----+--------+----------+----------+------------------+\nonly showing top 20 rows\n\n"
     ]
    }
   ],
   "source": [
    "from pyspark.sql import functions as F\n",
    "from pyspark.sql import Window\n",
    "from delta.tables import DeltaTable\n",
    "\n",
    "# Load the new customer data with schema\n",
    "df_new_customers = spark.read.csv(\n",
    "    \"wasbs://bikestore@mahmoudadel.blob.core.windows.net/BikeStores_sales_customers.csv\",\n",
    "    schema=schema_customers,\n",
    "    header=False\n",
    ")\n",
    "\n",
    "# Load existing dimension table (Delta table) where current records are marked\n",
    "delta_table = DeltaTable.forName(spark, \"dim_customer\")\n",
    "delta_df = DeltaTable.forName(spark, \"dim_customer\").toDF()\n",
    "\n",
    "# Set current date\n",
    "current_date = F.current_date()\n",
    "\n",
    "# Get the maximum customer_id from the existing table (handle case where table might be empty)\n",
    "max_customer_id_row = delta_table.toDF().agg(F.max(\"customer_id\")).collect()[0][0]\n",
    "max_customer_id = max_customer_id_row if max_customer_id_row is not None else 0\n",
    "\n",
    "# Assign new customer IDs by adding row_number to the max customer_id\n",
    "window = Window.orderBy(F.monotonically_increasing_id())\n",
    "df_new_customers = df_new_customers.withColumn(\"customer_id\", F.row_number().over(window) + max_customer_id)\n",
    "\n",
    "# Display new customer data for checking\n",
    "df_new_customers.show()\n",
    "\n",
    "\n",
    "filtered_df = delta_df.alias('existing').join(\n",
    "    df_new_customers.alias('new'),\n",
    "    F.col('existing.customer_number') == F.col('new.customer_number'),\n",
    "    \"inner\"\n",
    ").filter(\n",
    "    (   (F.col('existing.change_current_ind') == F.lit(True)) & (\n",
    "        (F.col('existing.street') != F.col('new.street')) |\n",
    "        (F.col('existing.city') != F.col('new.city')) |\n",
    "        (F.col('existing.state') != F.col('new.state')) |\n",
    "        (F.col('existing.zip_code') != F.col('new.zip_code'))\n",
    "        )   \n",
    "    )\n",
    ") \\\n",
    ".select(\n",
    "    \"new.customer_id\",\n",
    "    \"new.customer_number\",\n",
    "    \"new.first_name\",\n",
    "    \"new.last_name\",\n",
    "    \"new.phone\",\n",
    "    \"new.email\",\n",
    "    \"new.street\",\n",
    "    \"new.city\",\n",
    "    \"new.state\",\n",
    "    \"new.zip_code\"\n",
    ") \\\n",
    ".withColumn(\"start_date\", F.current_date()) \\\n",
    ".withColumn(\"end_date\", F.lit(None).cast(\"date\")) \\\n",
    ".withColumn(\"change_current_ind\", F.lit(True))\n",
    "\n",
    "\n",
    "\n",
    "\n",
    "filtered_df.show()\n",
    "\n",
    "\n",
    "# Define the merge logic for SCD Type 1 and SCD Type 2\n",
    "delta_table.alias(\"existing\").merge(\n",
    "    df_new_customers.alias(\"new\"),\n",
    "    \"existing.customer_number = new.customer_number\"\n",
    ") \\\n",
    ".whenMatchedUpdate(condition=\"\"\"\n",
    "    existing.street != new.street OR\n",
    "    existing.city != new.city OR\n",
    "    existing.state != new.state OR\n",
    "    existing.zip_code != new.zip_code\n",
    "\"\"\", set={\n",
    "    \"existing.end_date\": current_date,  \n",
    "    \"existing.change_current_ind\": F.lit(False) \n",
    "}) \\\n",
    ".whenMatchedUpdate(set={\n",
    "    \"existing.first_name\": \"new.first_name\",\n",
    "    \"existing.last_name\": \"new.last_name\",\n",
    "    \"existing.email\": \"new.email\",\n",
    "    \"existing.phone\": \"new.phone\"\n",
    "}) \\\n",
    ".whenNotMatchedInsert(values={\n",
    "    \"customer_id\": \"new.customer_id\",\n",
    "    \"customer_number\": \"new.customer_number\",\n",
    "    \"first_name\": \"new.first_name\",\n",
    "    \"last_name\": \"new.last_name\",\n",
    "    \"phone\": \"new.phone\",\n",
    "    \"email\": \"new.email\",\n",
    "    \"street\": \"new.street\",\n",
    "    \"city\": \"new.city\",\n",
    "    \"state\": \"new.state\",\n",
    "    \"zip_code\": \"new.zip_code\",\n",
    "    \"start_date\": current_date,  \n",
    "    \"end_date\": F.lit(None).cast(\"date\"), \n",
    "    \"change_current_ind\": F.lit(True)  \n",
    "}) \\\n",
    ".execute()\n",
    "\n",
    "\n",
    "\n",
    "# Show the resulting DataFrame\n",
    "filtered_df.write.format(\"delta\").mode(\"append\").saveAsTable(\"dim_customer\")\n",
    "\n",
    "\n",
    "# Check final table after merge\n",
    "spark.sql(\"SELECT * FROM dim_customer\").show()\n"
   ]
  },
  {
   "cell_type": "code",
   "execution_count": 0,
   "metadata": {
    "application/vnd.databricks.v1+cell": {
     "cellMetadata": {
      "byteLimit": 2048000,
      "rowLimit": 10000
     },
     "inputWidgets": {},
     "nuid": "326ef007-7206-43ba-a60b-cddb2eb36ba6",
     "showTitle": false,
     "title": ""
    }
   },
   "outputs": [],
   "source": [
    "from pyspark.sql import functions as F\n",
    "from pyspark.sql import Window\n",
    "from delta.tables import DeltaTable\n"
   ]
  },
  {
   "cell_type": "code",
   "execution_count": 0,
   "metadata": {
    "application/vnd.databricks.v1+cell": {
     "cellMetadata": {
      "byteLimit": 2048000,
      "implicitDf": true,
      "rowLimit": 10000
     },
     "inputWidgets": {},
     "nuid": "8e15bd98-a723-47c8-a46e-92b56485645f",
     "showTitle": false,
     "title": ""
    }
   },
   "outputs": [
    {
     "output_type": "display_data",
     "data": {
      "text/html": [
       "<style scoped>\n",
       "  .table-result-container {\n",
       "    max-height: 300px;\n",
       "    overflow: auto;\n",
       "  }\n",
       "  table, th, td {\n",
       "    border: 1px solid black;\n",
       "    border-collapse: collapse;\n",
       "  }\n",
       "  th, td {\n",
       "    padding: 5px;\n",
       "  }\n",
       "  th {\n",
       "    text-align: left;\n",
       "  }\n",
       "</style><div class='table-result-container'><table class='table-result'><thead style='background-color: white'><tr><th>col_name</th><th>data_type</th><th>comment</th></tr></thead><tbody><tr><td>customer_id</td><td>int</td><td>null</td></tr><tr><td>customer_number</td><td>int</td><td>null</td></tr><tr><td>first_name</td><td>string</td><td>null</td></tr><tr><td>last_name</td><td>string</td><td>null</td></tr><tr><td>phone</td><td>string</td><td>null</td></tr><tr><td>email</td><td>string</td><td>null</td></tr><tr><td>street</td><td>string</td><td>null</td></tr><tr><td>city</td><td>string</td><td>null</td></tr><tr><td>state</td><td>string</td><td>null</td></tr><tr><td>zip_code</td><td>string</td><td>null</td></tr><tr><td>start_date</td><td>date</td><td>null</td></tr><tr><td>end_date</td><td>date</td><td>null</td></tr><tr><td>change_current_ind</td><td>boolean</td><td>null</td></tr></tbody></table></div>"
      ]
     },
     "metadata": {
      "application/vnd.databricks.v1+output": {
       "addedWidgets": {},
       "aggData": [],
       "aggError": "",
       "aggOverflow": false,
       "aggSchema": [],
       "aggSeriesLimitReached": false,
       "aggType": "",
       "arguments": {},
       "columnCustomDisplayInfos": {},
       "data": [
        [
         "customer_id",
         "int",
         null
        ],
        [
         "customer_number",
         "int",
         null
        ],
        [
         "first_name",
         "string",
         null
        ],
        [
         "last_name",
         "string",
         null
        ],
        [
         "phone",
         "string",
         null
        ],
        [
         "email",
         "string",
         null
        ],
        [
         "street",
         "string",
         null
        ],
        [
         "city",
         "string",
         null
        ],
        [
         "state",
         "string",
         null
        ],
        [
         "zip_code",
         "string",
         null
        ],
        [
         "start_date",
         "date",
         null
        ],
        [
         "end_date",
         "date",
         null
        ],
        [
         "change_current_ind",
         "boolean",
         null
        ]
       ],
       "datasetInfos": [],
       "dbfsResultPath": null,
       "isJsonSchema": true,
       "metadata": {
        "createTempViewForImplicitDf": true,
        "dataframeName": "_sqldf",
        "executionCount": 73
       },
       "overflow": false,
       "plotOptions": {
        "customPlotOptions": {},
        "displayType": "table",
        "pivotAggregation": null,
        "pivotColumns": null,
        "xColumns": null,
        "yColumns": null
       },
       "removedWidgets": [],
       "schema": [
        {
         "metadata": "{\"comment\":\"name of the column\"}",
         "name": "col_name",
         "type": "\"string\""
        },
        {
         "metadata": "{\"comment\":\"data type of the column\"}",
         "name": "data_type",
         "type": "\"string\""
        },
        {
         "metadata": "{\"comment\":\"comment of the column\"}",
         "name": "comment",
         "type": "\"string\""
        }
       ],
       "type": "table"
      }
     },
     "output_type": "display_data"
    }
   ],
   "source": [
    "%sql\n",
    "DESCRIBE dim_product"
   ]
  },
  {
   "cell_type": "code",
   "execution_count": 0,
   "metadata": {
    "application/vnd.databricks.v1+cell": {
     "cellMetadata": {
      "byteLimit": 2048000,
      "rowLimit": 10000
     },
     "inputWidgets": {},
     "nuid": "4cb62e83-98b8-4f5c-8b06-9dfc18210b75",
     "showTitle": false,
     "title": ""
    }
   },
   "outputs": [],
   "source": [
    "from pyspark.sql.types import StructType, StructField, IntegerType, StringType\n",
    "\n",
    "schema_products = StructType(\n",
    "    [ StructField(\"product_number\", StringType(), True), StructField(\"product_name\", StringType(), True), StructField(\"brand_id\", IntegerType(), True), \n",
    "     StructField(\"category_id\", StringType(), True), StructField(\"model_year\", IntegerType(), True), StructField(\"list_price\", StringType(), True)])\n",
    "\n",
    "schema_category = StructType(\n",
    "    [ StructField(\"category_id\", StringType(), False), StructField(\"category_name\", StringType(), False)]\n",
    ")     \n",
    "\n",
    "schema_brand = StructType([\n",
    "    StructField(\"brand_id\", IntegerType(), False), StructField(\"brand_name\", StringType(), False)\n",
    "])"
   ]
  },
  {
   "cell_type": "code",
   "execution_count": 0,
   "metadata": {
    "application/vnd.databricks.v1+cell": {
     "cellMetadata": {
      "byteLimit": 2048000,
      "rowLimit": 10000
     },
     "inputWidgets": {},
     "nuid": "7b71183c-529f-4b82-b54e-36f80e689156",
     "showTitle": false,
     "title": ""
    }
   },
   "outputs": [],
   "source": [
    "product = spark.read.csv('wasbs://bikestore@mahmoudadel.blob.core.windows.net/BikeStores_production_products.csv', schema=schema_products, header=False)\n",
    "new_category = spark.read.csv('wasbs://bikestore@mahmoudadel.blob.core.windows.net/BikeStores_production_categories.csv', schema=schema_category, header=False)\n",
    "new_brand = spark.read.csv('wasbs://bikestore@mahmoudadel.blob.core.windows.net/BikeStores_production_brands.csv', schema=schema_brand, header=False)"
   ]
  },
  {
   "cell_type": "code",
   "execution_count": 0,
   "metadata": {
    "application/vnd.databricks.v1+cell": {
     "cellMetadata": {
      "byteLimit": 2048000,
      "rowLimit": 10000
     },
     "inputWidgets": {},
     "nuid": "b55d0969-a9fb-4f69-9bd1-4d25ed408803",
     "showTitle": false,
     "title": ""
    }
   },
   "outputs": [
    {
     "output_type": "stream",
     "name": "stdout",
     "output_type": "stream",
     "text": [
      "+--------------+--------------------+-----------+-------------------+----------+----------+\n|product_number|        product_name| brand_name|      category_name|model_year|list_price|\n+--------------+--------------------+-----------+-------------------+----------+----------+\n|             1|     Trek 820 - 2016|       Trek|     Mountain Bikes|      2016|    382.99|\n|             2|Ritchey Timberwol...|    Ritchey|     Mountain Bikes|      2016|    749.99|\n|             3|Surly Wednesday F...|      Surly|     Mountain Bikes|      2016|    999.99|\n|             4|Trek Fuel EX 8 29...|       Trek|     Mountain Bikes|      2016|   2899.99|\n|             5|Heller Shagamaw F...|     Heller|     Mountain Bikes|      2016|   1320.99|\n|             6|Surly Ice Cream T...|      Surly|     Mountain Bikes|      2016|    469.99|\n|             7|Trek Slash 8 27.5...|       Trek|     Mountain Bikes|      2016|   3999.99|\n|             8|Trek Remedy 29 Ca...|       Trek|     Mountain Bikes|      2016|   1799.99|\n|             9|Trek Conduit+ - 2016|       Trek|     Electric Bikes|      2016|   2999.99|\n|            10|Surly Straggler -...|      Surly|Cyclocross Bicycles|      2016|   1549.00|\n|            11|Surly Straggler 6...|      Surly|Cyclocross Bicycles|      2016|   1680.99|\n|            12|Electra Townie Or...|    Electra|  Cruisers Bicycles|      2016|    549.99|\n|            13|Electra Cruiser 1...|    Electra|  Cruisers Bicycles|      2016|    269.99|\n|            14|Electra Girl's Ha...|    Electra|  Cruisers Bicycles|      2016|    269.99|\n|            15|Electra Moto 1 - ...|    Electra|  Cruisers Bicycles|      2016|    529.99|\n|            16|Electra Townie Or...|    Electra|  Cruisers Bicycles|      2016|    599.99|\n|            17|Pure Cycles Vine ...|Pure Cycles|  Cruisers Bicycles|      2016|    429.00|\n|            18|Pure Cycles Weste...|Pure Cycles|  Cruisers Bicycles|      2016|    449.00|\n|            19|Pure Cycles Willi...|Pure Cycles|  Cruisers Bicycles|      2016|    449.00|\n|            20|Electra Townie Or...|    Electra|  Cruisers Bicycles|      2016|    599.99|\n+--------------+--------------------+-----------+-------------------+----------+----------+\nonly showing top 20 rows\n\n"
     ]
    }
   ],
   "source": [
    "df_product_cat = product.join(new_category, product[\"category_id\"] == new_category[\"category_id\"], \"left\").drop(\"category_id\")\n",
    "\n",
    "new_product = df_product_cat.join(new_brand, df_product_cat[\"brand_id\"] == new_brand[\"brand_id\"], \"left\").drop(\"brand_id\").\\\n",
    "            select('product_number','product_name', 'brand_name', 'category_name', 'model_year', 'list_price')\n",
    "new_product.show()"
   ]
  },
  {
   "cell_type": "code",
   "execution_count": 0,
   "metadata": {
    "application/vnd.databricks.v1+cell": {
     "cellMetadata": {
      "byteLimit": 2048000,
      "implicitDf": true,
      "rowLimit": 10000
     },
     "inputWidgets": {},
     "nuid": "a6f84361-2dc2-4f9f-b396-afa2f0074bb9",
     "showTitle": false,
     "title": ""
    }
   },
   "outputs": [
    {
     "output_type": "stream",
     "name": "stdout",
     "output_type": "stream",
     "text": [
      "+--------------+--------------------+-----------+-------------------+----------+----------+----------+\n|product_number|        product_name| brand_name|      category_name|model_year|list_price|product_id|\n+--------------+--------------------+-----------+-------------------+----------+----------+----------+\n|             1|     Trek 820 - 2016|       Trek|     Mountain Bikes|      2016|    382.99|         1|\n|             2|Ritchey Timberwol...|    Ritchey|     Mountain Bikes|      2016|    749.99|         2|\n|             3|Surly Wednesday F...|      Surly|     Mountain Bikes|      2016|    999.99|         3|\n|             4|Trek Fuel EX 8 29...|       Trek|     Mountain Bikes|      2016|   2899.99|         4|\n|             5|Heller Shagamaw F...|     Heller|     Mountain Bikes|      2016|   1320.99|         5|\n|             6|Surly Ice Cream T...|      Surly|     Mountain Bikes|      2016|    469.99|         6|\n|             7|Trek Slash 8 27.5...|       Trek|     Mountain Bikes|      2016|   3999.99|         7|\n|             8|Trek Remedy 29 Ca...|       Trek|     Mountain Bikes|      2016|   1799.99|         8|\n|             9|Trek Conduit+ - 2016|       Trek|     Electric Bikes|      2016|   2999.99|         9|\n|            10|Surly Straggler -...|      Surly|Cyclocross Bicycles|      2016|   1549.00|        10|\n|            11|Surly Straggler 6...|      Surly|Cyclocross Bicycles|      2016|   1680.99|        11|\n|            12|Electra Townie Or...|    Electra|  Cruisers Bicycles|      2016|    549.99|        12|\n|            13|Electra Cruiser 1...|    Electra|  Cruisers Bicycles|      2016|    269.99|        13|\n|            14|Electra Girl's Ha...|    Electra|  Cruisers Bicycles|      2016|    269.99|        14|\n|            15|Electra Moto 1 - ...|    Electra|  Cruisers Bicycles|      2016|    529.99|        15|\n|            16|Electra Townie Or...|    Electra|  Cruisers Bicycles|      2016|    599.99|        16|\n|            17|Pure Cycles Vine ...|Pure Cycles|  Cruisers Bicycles|      2016|    429.00|        17|\n|            18|Pure Cycles Weste...|Pure Cycles|  Cruisers Bicycles|      2016|    449.00|        18|\n|            19|Pure Cycles Willi...|Pure Cycles|  Cruisers Bicycles|      2016|    449.00|        19|\n|            20|Electra Townie Or...|    Electra|  Cruisers Bicycles|      2016|    599.99|        20|\n+--------------+--------------------+-----------+-------------------+----------+----------+----------+\nonly showing top 20 rows\n\n"
     ]
    }
   ],
   "source": [
    "\n",
    "delta_table_product = DeltaTable.forName(spark, \"dim_product\")\n",
    "\n",
    "current_date = F.current_date()\n",
    "\n",
    "df_product = delta_table_product.toDF()\n",
    "\n",
    "max_product_id_row = delta_table_product.toDF().agg(F.max(\"product_id\")).collect()[0][0]\n",
    "max_product_id = max_product_id_row if max_product_id_row is not None else 0\n",
    "\n",
    "\n",
    "window = Window.orderBy(F.monotonically_increasing_id())\n",
    "df_new_product = new_product.withColumn(\"product_id\", F.row_number().over(window) + max_product_id)\n",
    "\n",
    "\n",
    "df_new_product.show()"
   ]
  },
  {
   "cell_type": "code",
   "execution_count": 0,
   "metadata": {
    "application/vnd.databricks.v1+cell": {
     "cellMetadata": {
      "byteLimit": 2048000,
      "rowLimit": 10000
     },
     "inputWidgets": {},
     "nuid": "58a7d307-e9f2-4c16-89aa-c832575ce815",
     "showTitle": false,
     "title": ""
    }
   },
   "outputs": [
    {
     "output_type": "stream",
     "name": "stdout",
     "output_type": "stream",
     "text": [
      "+----------+--------------+------------+----------+-------------+----------+----------+----------+--------+------------------+\n|product_id|product_number|product_name|brand_name|category_name|model_year|list_price|start_date|end_date|change_current_ind|\n+----------+--------------+------------+----------+-------------+----------+----------+----------+--------+------------------+\n+----------+--------------+------------+----------+-------------+----------+----------+----------+--------+------------------+\n\n"
     ]
    }
   ],
   "source": [
    "#Filter DataFrame for the merge operation\n",
    "filtered_df_new_product = df_product.alias('existing').join(\n",
    "    df_new_product.alias('new'),\n",
    "    F.col('existing.product_number') == F.col('new.product_number'),\n",
    "    \"inner\"\n",
    ").filter(\n",
    "    (F.col('existing.change_current_ind') == True) & \n",
    "    (F.col('existing.product_name') != F.col('new.product_name'))\n",
    ") \\\n",
    ".select(\n",
    "    \"new.product_id\",\n",
    "    \"new.product_number\",\n",
    "    \"new.product_name\",\n",
    "    \"new.brand_name\",\n",
    "    \"new.category_name\",\n",
    "    \"new.model_year\",\n",
    "    \"new.list_price\"\n",
    ") \\\n",
    ".withColumn(\"start_date\", F.current_date()) \\\n",
    ".withColumn(\"end_date\", F.lit(None).cast(\"date\")) \\\n",
    ".withColumn(\"change_current_ind\", F.lit(True))\n",
    "\n",
    "# Show the filtered DataFrame (optional)\n",
    "filtered_df_new_product.show()\n",
    "\n",
    "# Perform the merge operation\n",
    "delta_table = DeltaTable.forName(spark, \"dim_product\")\n",
    "\n",
    "delta_table.alias(\"existing\").merge(\n",
    "    filtered_df_new_product.alias(\"new\"),\n",
    "    \"existing.product_number = new.product_number\"\n",
    ").whenMatchedUpdate(\n",
    "    condition=\"\"\" \n",
    "    existing.change_current_ind = true AND (\n",
    "        existing.product_name != new.product_name OR\n",
    "        existing.brand_name != new.brand_name OR\n",
    "        existing.category_name != new.category_name OR\n",
    "        existing.model_year != new.model_year OR\n",
    "        existing.list_price != new.list_price\n",
    "    )\"\"\",\n",
    "    set={\n",
    "        \"existing.end_date\": F.current_date(),\n",
    "        \"existing.change_current_ind\": F.lit(False)\n",
    "    }\n",
    ").whenNotMatchedInsert(\n",
    "    values={\n",
    "        \"product_id\": F.col(\"new.product_id\"),  # Use F.col to reference new columns\n",
    "        \"product_number\": F.col(\"new.product_number\"),\n",
    "        \"product_name\": F.col(\"new.product_name\"),\n",
    "        \"brand_name\": F.col(\"new.brand_name\"),\n",
    "        \"category_name\": F.col(\"new.category_name\"),\n",
    "        \"model_year\": F.col(\"new.model_year\"),\n",
    "        \"list_price\": F.col(\"new.list_price\"),\n",
    "        \"start_date\": F.current_date(),\n",
    "        \"end_date\": F.lit(None).cast(\"date\"),\n",
    "        \"change_current_ind\": F.lit(True)\n",
    "    }\n",
    ").execute()"
   ]
  },
  {
   "cell_type": "code",
   "execution_count": 0,
   "metadata": {
    "application/vnd.databricks.v1+cell": {
     "cellMetadata": {},
     "inputWidgets": {},
     "nuid": "c130330a-5a4f-49e4-9b51-292546ede0b0",
     "showTitle": false,
     "title": ""
    }
   },
   "outputs": [],
   "source": []
  }
 ],
 "metadata": {
  "application/vnd.databricks.v1+notebook": {
   "dashboards": [],
   "environmentMetadata": null,
   "language": "python",
   "notebookMetadata": {
    "mostRecentlyExecutedCommandWithImplicitDF": {
     "commandId": 651554844320159,
     "dataframes": [
      "_sqldf"
     ]
    },
    "pythonIndentUnit": 4
   },
   "notebookName": "DIMENSTIONS Notebook 2024-09-28 15:12:06",
   "widgets": {}
  }
 },
 "nbformat": 4,
 "nbformat_minor": 0
}
